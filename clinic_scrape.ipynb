{
  "nbformat": 4,
  "nbformat_minor": 0,
  "metadata": {
    "colab": {
      "provenance": [],
      "authorship_tag": "ABX9TyMX8WM/2rAI+MjT/zKM7Do7",
      "include_colab_link": true
    },
    "kernelspec": {
      "name": "python3",
      "display_name": "Python 3"
    },
    "language_info": {
      "name": "python"
    }
  },
  "cells": [
    {
      "cell_type": "markdown",
      "metadata": {
        "id": "view-in-github",
        "colab_type": "text"
      },
      "source": [
        "<a href=\"https://colab.research.google.com/github/schesnowitz/Files/blob/main/clinic_scrape.ipynb\" target=\"_parent\"><img src=\"https://colab.research.google.com/assets/colab-badge.svg\" alt=\"Open In Colab\"/></a>"
      ]
    },
    {
      "cell_type": "code",
      "execution_count": 13,
      "metadata": {
        "colab": {
          "base_uri": "https://localhost:8080/",
          "height": 35
        },
        "id": "XtVMUlOQoIk_",
        "outputId": "a7684899-5eb0-4cb9-e74d-089c78ff9931"
      },
      "outputs": [
        {
          "output_type": "execute_result",
          "data": {
            "text/plain": [
              "'Eastern Urological Associates'"
            ],
            "application/vnd.google.colaboratory.intrinsic+json": {
              "type": "string"
            }
          },
          "metadata": {},
          "execution_count": 13
        }
      ],
      "source": [
        "import time\n",
        "import requests\n",
        "from bs4 import BeautifulSoup\n",
        "\n",
        "\n",
        "# url = 'https://12697.portal.athenahealth.com/'\n",
        "# response = requests.get(url)\n",
        "# html = response.text\n",
        "# bs = BeautifulSoup(html, 'html.parser')\n",
        "# bs.find_all('h1')[2].text.strip()\n",
        "# # len(bs.find_all('h1'))"
      ]
    },
    {
      "cell_type": "code",
      "source": [
        "\n",
        "\n",
        "def get_the_clinic(clinic_id):\n",
        "    url = f'https://{clinic_id}.portal.athenahealth.com/'\n",
        "    response = requests.get(url)\n",
        "    html = response.text\n",
        "    bs = BeautifulSoup(html, 'html.parser')\n",
        "    not_found = bs.find_all('h1')[0]\n",
        "    try:\n",
        "        clinic_name = bs.find_all('h1')[2].text.strip()\n",
        "    # if not_found == \"Sorry, we can't find that practice. Make sure you typed the right address.\":\n",
        "    except:\n",
        "        clinic_name = 'no clinic at this URL'\n",
        "    return clinic_name\n",
        "\n",
        "# get_the_clinic(12696)  \n",
        "\n",
        "start = 12695\n",
        "end = 12700\n",
        "\n",
        "list = []\n",
        "for clinic_id in range(start, end):\n",
        "    data_dict = {}\n",
        "    data_dict['clinic_id'] = clinic_id\n",
        "    data_dict['clinic_name'] = get_the_clinic(clinic_id)\n",
        "    time.sleep(1) \n",
        "    list.append(data_dict)\n",
        "    # print(f'{clinic_id} - {data_dict}')\n",
        "import pandas as pd\n",
        "data = pd.DataFrame(list)\n",
        "from google.colab import files\n",
        "data.to_csv('clinic_data.csv')\n",
        "files.download('clinic_data.csv')"
      ],
      "metadata": {
        "colab": {
          "base_uri": "https://localhost:8080/",
          "height": 17
        },
        "id": "hPy3Y1trwkBI",
        "outputId": "07758473-bb08-44b4-d879-d6613d1292fa"
      },
      "execution_count": 41,
      "outputs": [
        {
          "output_type": "display_data",
          "data": {
            "text/plain": [
              "<IPython.core.display.Javascript object>"
            ],
            "application/javascript": [
              "\n",
              "    async function download(id, filename, size) {\n",
              "      if (!google.colab.kernel.accessAllowed) {\n",
              "        return;\n",
              "      }\n",
              "      const div = document.createElement('div');\n",
              "      const label = document.createElement('label');\n",
              "      label.textContent = `Downloading \"${filename}\": `;\n",
              "      div.appendChild(label);\n",
              "      const progress = document.createElement('progress');\n",
              "      progress.max = size;\n",
              "      div.appendChild(progress);\n",
              "      document.body.appendChild(div);\n",
              "\n",
              "      const buffers = [];\n",
              "      let downloaded = 0;\n",
              "\n",
              "      const channel = await google.colab.kernel.comms.open(id);\n",
              "      // Send a message to notify the kernel that we're ready.\n",
              "      channel.send({})\n",
              "\n",
              "      for await (const message of channel.messages) {\n",
              "        // Send a message to notify the kernel that we're ready.\n",
              "        channel.send({})\n",
              "        if (message.buffers) {\n",
              "          for (const buffer of message.buffers) {\n",
              "            buffers.push(buffer);\n",
              "            downloaded += buffer.byteLength;\n",
              "            progress.value = downloaded;\n",
              "          }\n",
              "        }\n",
              "      }\n",
              "      const blob = new Blob(buffers, {type: 'application/binary'});\n",
              "      const a = document.createElement('a');\n",
              "      a.href = window.URL.createObjectURL(blob);\n",
              "      a.download = filename;\n",
              "      div.appendChild(a);\n",
              "      a.click();\n",
              "      div.remove();\n",
              "    }\n",
              "  "
            ]
          },
          "metadata": {}
        },
        {
          "output_type": "display_data",
          "data": {
            "text/plain": [
              "<IPython.core.display.Javascript object>"
            ],
            "application/javascript": [
              "download(\"download_0b3bd1dc-ec57-4eb8-8523-cfa65a5f03fe\", \"clinic_data.csv\", 196)"
            ]
          },
          "metadata": {}
        }
      ]
    }
  ]
}